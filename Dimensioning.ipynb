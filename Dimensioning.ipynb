{
  "nbformat": 4,
  "nbformat_minor": 0,
  "metadata": {
    "colab": {
      "name": "Dimensioning.ipynb",
      "provenance": [],
      "collapsed_sections": []
    },
    "kernelspec": {
      "name": "python3",
      "display_name": "Python 3"
    },
    "language_info": {
      "name": "python"
    }
  },
  "cells": [
    {
      "cell_type": "code",
      "execution_count": 1,
      "metadata": {
        "colab": {
          "base_uri": "https://localhost:8080/"
        },
        "id": "uoLAZ1VnYmsu",
        "outputId": "1b6c0743-f07a-46cc-c46e-465bf8331adb"
      },
      "outputs": [
        {
          "output_type": "stream",
          "name": "stdout",
          "text": [
            "Ek(A): 0.008457498340194703\n",
            "Uiltilization: 0.6610283344398702\n"
          ]
        }
      ],
      "source": [
        "import numpy as np\n",
        "# M/M/k/k Dimensioning\n",
        "A = [20,100,500,1000,5000,10000]\n",
        "k = [30,117,527,1029,5010,9970]\n",
        "\n",
        "# A = 20 k = 30\n",
        "index = 0\n",
        "E = np.zeros(k[index]+1)\n",
        "E[0]= 1\n",
        "for i in range(k[index]):\n",
        "  E[i+1] = (E[i]*A[index])/((i+1)+(E[i]*A[index]))\n",
        "\n",
        "Ek_A = E[-1] \n",
        "Util = ((1-Ek_A)*A[index])/k[index]\n",
        "print('Ek(A):',Ek_A)\n",
        "print('Uiltilization:',Util)"
      ]
    },
    {
      "cell_type": "code",
      "source": [
        "# A = 100 k = 117\n",
        "index = 1\n",
        "E = np.zeros(k[index]+1)\n",
        "E[0]= 1\n",
        "for i in range(k[index]):\n",
        "  E[i+1] = (E[i]*A[index])/((i+1)+(E[i]*A[index]))\n",
        "\n",
        "Ek_A = E[-1] \n",
        "Util = ((1-Ek_A)*A[index])/k[index]\n",
        "print('Ek(A):',Ek_A)\n",
        "print('Uiltilization:',Util)"
      ],
      "metadata": {
        "colab": {
          "base_uri": "https://localhost:8080/"
        },
        "id": "RbYpRMraYvYe",
        "outputId": "9207c1ee-5c39-4fc5-a42a-4224c39e0ed8"
      },
      "execution_count": 2,
      "outputs": [
        {
          "output_type": "stream",
          "name": "stdout",
          "text": [
            "Ek(A): 0.009790071125371362\n",
            "Uiltilization: 0.8463332725424176\n"
          ]
        }
      ]
    },
    {
      "cell_type": "code",
      "source": [
        "# A = 500 k = 527\n",
        "index = 2\n",
        "E = np.zeros(k[index]+1)\n",
        "E[0]= 1\n",
        "for i in range(k[index]):\n",
        "  E[i+1] = (E[i]*A[index])/((i+1)+(E[i]*A[index]))\n",
        "\n",
        "Ek_A = E[-1] \n",
        "Util = ((1-Ek_A)*A[index])/k[index]\n",
        "print('Ek(A):',Ek_A)\n",
        "print('Uiltilization:',Util)"
      ],
      "metadata": {
        "colab": {
          "base_uri": "https://localhost:8080/"
        },
        "id": "uE9YcqJHZFl2",
        "outputId": "c0674755-8467-4a5e-da79-0cbe25babcc5"
      },
      "execution_count": 3,
      "outputs": [
        {
          "output_type": "stream",
          "name": "stdout",
          "text": [
            "Ek(A): 0.00953948621694931\n",
            "Uiltilization: 0.9397158574791753\n"
          ]
        }
      ]
    },
    {
      "cell_type": "code",
      "source": [
        "# A = 1000 k = 1029\n",
        "index = 3\n",
        "E = np.zeros(k[index]+1)\n",
        "E[0]= 1\n",
        "for i in range(k[index]):\n",
        "  E[i+1] = (E[i]*A[index])/((i+1)+(E[i]*A[index]))\n",
        "\n",
        "Ek_A = E[-1] \n",
        "Util = ((1-Ek_A)*A[index])/k[index]\n",
        "print('Ek(A):',Ek_A)\n",
        "print('Uiltilization:',Util)"
      ],
      "metadata": {
        "colab": {
          "base_uri": "https://localhost:8080/"
        },
        "id": "RGj8H5nOakcF",
        "outputId": "b4841493-00b5-400f-8138-8d82fe603711"
      },
      "execution_count": 4,
      "outputs": [
        {
          "output_type": "stream",
          "name": "stdout",
          "text": [
            "Ek(A): 0.009941886464076202\n",
            "Uiltilization: 0.9621556011039104\n"
          ]
        }
      ]
    },
    {
      "cell_type": "code",
      "source": [
        "# A = 5000 k = 5010\n",
        "index = 4\n",
        "E = np.zeros(k[index]+1)\n",
        "E[0]= 1\n",
        "for i in range(k[index]):\n",
        "  E[i+1] = (E[i]*A[index])/((i+1)+(E[i]*A[index]))\n",
        "\n",
        "Ek_A = E[-1] \n",
        "Util = ((1-Ek_A)*A[index])/k[index]\n",
        "print('Ek(A):',Ek_A)\n",
        "print('Uiltilization:',Util)"
      ],
      "metadata": {
        "colab": {
          "base_uri": "https://localhost:8080/"
        },
        "id": "95DbyeJka2GH",
        "outputId": "4ca06ea2-4758-4a1c-c1b0-bfa7210cd498"
      },
      "execution_count": 5,
      "outputs": [
        {
          "output_type": "stream",
          "name": "stdout",
          "text": [
            "Ek(A): 0.009965719466204061\n",
            "Uiltilization: 0.9880581642053852\n"
          ]
        }
      ]
    },
    {
      "cell_type": "code",
      "source": [
        "# A = 10000 k = 9970\n",
        "index = 5\n",
        "E = np.zeros(k[index]+1)\n",
        "E[0]= 1\n",
        "for i in range(k[index]):\n",
        "  E[i+1] = (E[i]*A[index])/((i+1)+(E[i]*A[index]))\n",
        "\n",
        "Ek_A = E[-1] \n",
        "Util = ((1-Ek_A)*A[index])/k[index]\n",
        "print('Ek(A):',Ek_A)\n",
        "print('Uiltilization:',Util)"
      ],
      "metadata": {
        "colab": {
          "base_uri": "https://localhost:8080/"
        },
        "id": "HfXpljNFbTq7",
        "outputId": "be61a859-62d6-498f-8b19-99419876e906"
      },
      "execution_count": 6,
      "outputs": [
        {
          "output_type": "stream",
          "name": "stdout",
          "text": [
            "Ek(A): 0.009931412325299281\n",
            "Uiltilization: 0.9930477308673027\n"
          ]
        }
      ]
    },
    {
      "cell_type": "code",
      "source": [
        "# M/M/k/k under Critical Loading (k = A)\n",
        "k = [10,100,1000,10000,20000,50000]\n",
        "# A = 10 k = 10\n",
        "index = 0\n",
        "E = np.zeros(k[index]+1)\n",
        "E[0]= 1\n",
        "for i in range(k[index]):\n",
        "  E[i+1] = (E[i]*k[index])/((i+1)+(E[i]*k[index]))\n",
        "\n",
        "Ek_A = E[-1] \n",
        "Util = ((1-Ek_A)*k[index])/k[index]\n",
        "print('Ek(A):',Ek_A)\n",
        "print('Uiltilization:',Util)\n",
        "print('Ek(A)sqrt(A) approaches a constant:',Ek_A*np.sqrt(k[index]))"
      ],
      "metadata": {
        "colab": {
          "base_uri": "https://localhost:8080/"
        },
        "id": "L9qwYBd-fIQ4",
        "outputId": "ae0b8c0f-6da6-4054-99c6-4ab1d170f6b6"
      },
      "execution_count": 7,
      "outputs": [
        {
          "output_type": "stream",
          "name": "stdout",
          "text": [
            "Ek(A): 0.21458234310734736\n",
            "Uiltilization: 0.7854176568926526\n",
            "Ek(A)sqrt(A) approaches a constant: 0.6785689498749509\n"
          ]
        }
      ]
    },
    {
      "cell_type": "code",
      "source": [
        "# A = 100 k = 100\n",
        "index = 1\n",
        "E = np.zeros(k[index]+1)\n",
        "E[0]= 1\n",
        "for i in range(k[index]):\n",
        "  E[i+1] = (E[i]*k[index])/((i+1)+(E[i]*k[index]))\n",
        "\n",
        "Ek_A = E[-1] \n",
        "Util = ((1-Ek_A)*k[index])/k[index]\n",
        "print('Ek(A):',Ek_A)\n",
        "print('Uiltilization:',Util)\n",
        "print('Ek(A)sqrt(A) approaches a constant:',Ek_A*np.sqrt(k[index]))"
      ],
      "metadata": {
        "colab": {
          "base_uri": "https://localhost:8080/"
        },
        "id": "8gJRibOxhDpJ",
        "outputId": "669b713f-b99b-43f0-fdf5-895d1b9bb34b"
      },
      "execution_count": 8,
      "outputs": [
        {
          "output_type": "stream",
          "name": "stdout",
          "text": [
            "Ek(A): 0.07570045271086097\n",
            "Uiltilization: 0.924299547289139\n",
            "Ek(A)sqrt(A) approaches a constant: 0.7570045271086097\n"
          ]
        }
      ]
    },
    {
      "cell_type": "code",
      "source": [
        "# A = 1000 k = 1000\n",
        "index = 2\n",
        "E = np.zeros(k[index]+1)\n",
        "E[0]= 1\n",
        "for i in range(k[index]):\n",
        "  E[i+1] = (E[i]*k[index])/((i+1)+(E[i]*k[index]))\n",
        "\n",
        "Ek_A = E[-1] \n",
        "Util = ((1-Ek_A)*k[index])/k[index]\n",
        "print('Ek(A):',Ek_A)\n",
        "print('Uiltilization:',Util)\n",
        "print('Ek(A)sqrt(A) approaches a constant:',Ek_A*np.sqrt(k[index]))"
      ],
      "metadata": {
        "colab": {
          "base_uri": "https://localhost:8080/"
        },
        "id": "yQk4F1_RhdHW",
        "outputId": "f336fc70-37c7-456f-f10c-7237fbf61a8a"
      },
      "execution_count": 9,
      "outputs": [
        {
          "output_type": "stream",
          "name": "stdout",
          "text": [
            "Ek(A): 0.024811917646160406\n",
            "Uiltilization: 0.9751880823538396\n",
            "Ek(A)sqrt(A) approaches a constant: 0.7846217287839065\n"
          ]
        }
      ]
    },
    {
      "cell_type": "code",
      "source": [
        "# A = 10000 k = 10000\n",
        "index = 3\n",
        "E = np.zeros(k[index]+1)\n",
        "E[0]= 1\n",
        "for i in range(k[index]):\n",
        "  E[i+1] = (E[i]*k[index])/((i+1)+(E[i]*k[index]))\n",
        "\n",
        "Ek_A = E[-1] \n",
        "Util = ((1-Ek_A)*k[index])/k[index]\n",
        "print('Ek(A):',Ek_A)\n",
        "print('Uiltilization:',Util)\n",
        "print('Ek(A)sqrt(A) approaches a constant:',Ek_A*np.sqrt(k[index]))"
      ],
      "metadata": {
        "colab": {
          "base_uri": "https://localhost:8080/"
        },
        "id": "1WG0kgFwhfsd",
        "outputId": "05c2189f-b9a1-47b0-beab-c8ed8a3a812e"
      },
      "execution_count": 10,
      "outputs": [
        {
          "output_type": "stream",
          "name": "stdout",
          "text": [
            "Ek(A): 0.007936563248805671\n",
            "Uiltilization: 0.9920634367511945\n",
            "Ek(A)sqrt(A) approaches a constant: 0.7936563248805671\n"
          ]
        }
      ]
    },
    {
      "cell_type": "code",
      "source": [
        "# A = 20000 k = 20000\n",
        "index = 4\n",
        "E = np.zeros(k[index]+1)\n",
        "E[0]= 1\n",
        "for i in range(k[index]):\n",
        "  E[i+1] = (E[i]*k[index])/((i+1)+(E[i]*k[index]))\n",
        "\n",
        "Ek_A = E[-1] \n",
        "Util = ((1-Ek_A)*k[index])/k[index]\n",
        "print('Ek(A):',Ek_A)\n",
        "print('Uiltilization:',Util)\n",
        "print('Ek(A)sqrt(A) approaches a constant:',Ek_A*np.sqrt(k[index]))"
      ],
      "metadata": {
        "colab": {
          "base_uri": "https://localhost:8080/"
        },
        "id": "jPMk4W0Rhixu",
        "outputId": "70f238f2-5d2f-427f-d22f-999c8a99c6de"
      },
      "execution_count": 11,
      "outputs": [
        {
          "output_type": "stream",
          "name": "stdout",
          "text": [
            "Ek(A): 0.0056207314086100775\n",
            "Uiltilization: 0.9943792685913899\n",
            "Ek(A)sqrt(A) approaches a constant: 0.7948914588512802\n"
          ]
        }
      ]
    },
    {
      "cell_type": "code",
      "source": [
        "# A = 50000 k = 50000\n",
        "index = 5\n",
        "E = np.zeros(k[index]+1)\n",
        "E[0]= 1\n",
        "for i in range(k[index]):\n",
        "  E[i+1] = (E[i]*k[index])/((i+1)+(E[i]*k[index]))\n",
        "\n",
        "Ek_A = E[-1] \n",
        "Util = ((1-Ek_A)*k[index])/k[index]\n",
        "print('Ek(A):',Ek_A)\n",
        "print('Uiltilization:',Util)\n",
        "print('Ek(A)sqrt(A) approaches a constant:',Ek_A*np.sqrt(k[index]))"
      ],
      "metadata": {
        "colab": {
          "base_uri": "https://localhost:8080/"
        },
        "id": "ZMHq6gwLhnMJ",
        "outputId": "efb76b58-a0e2-48f4-bdd4-d7d8e8f8693e"
      },
      "execution_count": 12,
      "outputs": [
        {
          "output_type": "stream",
          "name": "stdout",
          "text": [
            "Ek(A): 0.003559774201536095\n",
            "Uiltilization: 0.9964402257984639\n",
            "Ek(A)sqrt(A) approaches a constant: 0.7959897099184745\n"
          ]
        }
      ]
    }
  ]
}